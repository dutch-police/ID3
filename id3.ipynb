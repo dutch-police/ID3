{
 "cells": [
  {
   "cell_type": "code",
   "execution_count": 1,
   "metadata": {},
   "outputs": [],
   "source": [
    "import pandas as pd"
   ]
  },
  {
   "cell_type": "code",
   "execution_count": 2,
   "metadata": {},
   "outputs": [
    {
     "data": {
      "text/html": [
       "<div>\n",
       "<style scoped>\n",
       "    .dataframe tbody tr th:only-of-type {\n",
       "        vertical-align: middle;\n",
       "    }\n",
       "\n",
       "    .dataframe tbody tr th {\n",
       "        vertical-align: top;\n",
       "    }\n",
       "\n",
       "    .dataframe thead th {\n",
       "        text-align: right;\n",
       "    }\n",
       "</style>\n",
       "<table border=\"1\" class=\"dataframe\">\n",
       "  <thead>\n",
       "    <tr style=\"text-align: right;\">\n",
       "      <th></th>\n",
       "      <th>Day</th>\n",
       "      <th>Outlook</th>\n",
       "      <th>Temperature</th>\n",
       "      <th>Humidity</th>\n",
       "      <th>Wind</th>\n",
       "      <th>Play Tennis</th>\n",
       "    </tr>\n",
       "  </thead>\n",
       "  <tbody>\n",
       "    <tr>\n",
       "      <th>0</th>\n",
       "      <td>1</td>\n",
       "      <td>Sunny</td>\n",
       "      <td>Hot</td>\n",
       "      <td>High</td>\n",
       "      <td>Weak</td>\n",
       "      <td>No</td>\n",
       "    </tr>\n",
       "    <tr>\n",
       "      <th>1</th>\n",
       "      <td>2</td>\n",
       "      <td>Sunny</td>\n",
       "      <td>Hot</td>\n",
       "      <td>High</td>\n",
       "      <td>Strong</td>\n",
       "      <td>No</td>\n",
       "    </tr>\n",
       "    <tr>\n",
       "      <th>2</th>\n",
       "      <td>3</td>\n",
       "      <td>Overcast</td>\n",
       "      <td>Hot</td>\n",
       "      <td>High</td>\n",
       "      <td>Weak</td>\n",
       "      <td>Yes</td>\n",
       "    </tr>\n",
       "    <tr>\n",
       "      <th>3</th>\n",
       "      <td>4</td>\n",
       "      <td>Rain</td>\n",
       "      <td>Mild</td>\n",
       "      <td>High</td>\n",
       "      <td>Weak</td>\n",
       "      <td>Yes</td>\n",
       "    </tr>\n",
       "    <tr>\n",
       "      <th>4</th>\n",
       "      <td>5</td>\n",
       "      <td>Rain</td>\n",
       "      <td>Cool</td>\n",
       "      <td>Normal</td>\n",
       "      <td>Weak</td>\n",
       "      <td>Yes</td>\n",
       "    </tr>\n",
       "  </tbody>\n",
       "</table>\n",
       "</div>"
      ],
      "text/plain": [
       "   Day   Outlook Temperature Humidity    Wind Play Tennis\n",
       "0    1     Sunny         Hot     High    Weak          No\n",
       "1    2     Sunny         Hot     High  Strong          No\n",
       "2    3  Overcast         Hot     High    Weak         Yes\n",
       "3    4      Rain        Mild     High    Weak         Yes\n",
       "4    5      Rain        Cool   Normal    Weak         Yes"
      ]
     },
     "execution_count": 2,
     "metadata": {},
     "output_type": "execute_result"
    }
   ],
   "source": [
    "data = pd.read_csv(\"playtennis.csv\")\n",
    "data.head()"
   ]
  },
  {
   "cell_type": "code",
   "execution_count": 3,
   "metadata": {},
   "outputs": [
    {
     "ename": "SyntaxError",
     "evalue": "invalid syntax (<ipython-input-3-9e1ab5bc3f7d>, line 2)",
     "output_type": "error",
     "traceback": [
      "\u001b[0;36m  File \u001b[0;32m\"<ipython-input-3-9e1ab5bc3f7d>\"\u001b[0;36m, line \u001b[0;32m2\u001b[0m\n\u001b[0;31m    passdef getID3Tree():\u001b[0m\n\u001b[0m                     ^\u001b[0m\n\u001b[0;31mSyntaxError\u001b[0m\u001b[0;31m:\u001b[0m invalid syntax\n"
     ]
    }
   ],
   "source": [
    "def getID3Tree():\n",
    "    passdef getID3Tree():\n",
    "    pass"
   ]
  },
  {
   "cell_type": "code",
   "execution_count": 7,
   "metadata": {},
   "outputs": [],
   "source": [
    "def predictByTree():\n",
    "    pass"
   ]
  },
  {
   "cell_type": "code",
   "execution_count": 8,
   "metadata": {},
   "outputs": [],
   "source": [
    "class Node:\n",
    "    def __init__(self, label):\n",
    "        self.label = label"
   ]
  },
  {
   "cell_type": "code",
   "execution_count": null,
   "metadata": {},
   "outputs": [],
   "source": []
  },
  {
   "cell_type": "code",
   "execution_count": 110,
   "metadata": {},
   "outputs": [],
   "source": [
    "import re\n",
    "import math\n",
    "from collections import deque\n",
    "\n",
    "# x is examples in training set\n",
    "# y is set of attributes\n",
    "# label is target attributes\n",
    "# Node is a class which has properties values, childs, and next\n",
    "# root is top node in the decision tree\n",
    "\n",
    "class Node(object):\n",
    "    def __init__(self):\n",
    "        self.value = None\n",
    "        self.next = None\n",
    "        self.childs = None\n",
    "\n",
    "# Simple class of Decision Tree\n",
    "# Aimed for who want to learn Decision Tree, so it is not optimized\n",
    "class DecisionTree(object):\n",
    "    def __init__(self, sample, attributes, labels):\n",
    "        self.sample = sample\n",
    "        self.attributes = attributes\n",
    "        self.labels = labels\n",
    "        self.labelCodes = None\n",
    "        self.labelCodesCount = None\n",
    "        self.initLabelCodes()\n",
    "        # print(self.labelCodes)\n",
    "        self.root = None\n",
    "        self.entropy = self.getEntropy([x for x in range(len(self.labels))])\n",
    "\n",
    "    def initLabelCodes(self):\n",
    "        self.labelCodes = []\n",
    "        self.labelCodesCount = []\n",
    "        for l in self.labels:\n",
    "            if l not in self.labelCodes:\n",
    "                self.labelCodes.append(l)\n",
    "                self.labelCodesCount.append(0)\n",
    "            self.labelCodesCount[self.labelCodes.index(l)] += 1\n",
    "        print(self.labelCodes)\n",
    "        print(self.labelCodesCount)\n",
    "\n",
    "    def getLabelCodeId(self, sampleId):\n",
    "        return self.labelCodes.index(self.labels[sampleId])\n",
    "\n",
    "    def getAttributeValues(self, sampleIds, attributeId):\n",
    "        vals = []\n",
    "        for sid in sampleIds:\n",
    "            val = self.sample[sid][attributeId]\n",
    "            if val not in vals:\n",
    "                vals.append(val)\n",
    "        # print(vals)\n",
    "        return vals\n",
    "\n",
    "    def getEntropy(self, sampleIds):\n",
    "        entropy = 0\n",
    "        labelCount = [0] * len(self.labelCodes)\n",
    "        for sid in sampleIds:\n",
    "            labelCount[self.getLabelCodeId(sid)] += 1\n",
    "        # print(\"-ge\", labelCount)\n",
    "        for lv in labelCount:\n",
    "            # print(lv)\n",
    "            if lv != 0:\n",
    "                entropy += -lv/len(sampleIds) * math.log(lv/len(sampleIds), 2)\n",
    "            else:\n",
    "                entropy += 0\n",
    "        return entropy\n",
    "\n",
    "    def getDominantLabel(self, sampleIds):\n",
    "        print(\"=======\")\n",
    "        print(sampleIds)\n",
    "        labelCodesCount = [0] * len(self.labelCodes)\n",
    "        for sid in sampleIds:\n",
    "            labelCodesCount[self.labelCodes.index(self.labels[sid])] += 1\n",
    "        return self.labelCodes[labelCodesCount.index(max(labelCodesCount))]\n",
    "\n",
    "    def getInformationGain(self, sampleIds, attributeId):\n",
    "        gain = self.getEntropy(sampleIds)\n",
    "        attributeVals = []\n",
    "        attributeValsCount = []\n",
    "        attributeValsIds = []\n",
    "        for sid in sampleIds:\n",
    "            val = self.sample[sid][attributeId]\n",
    "            if val not in attributeVals:\n",
    "                attributeVals.append(val)\n",
    "                attributeValsCount.append(0)\n",
    "                attributeValsIds.append([])\n",
    "            vid = attributeVals.index(val)\n",
    "            attributeValsCount[vid] += 1\n",
    "            attributeValsIds[vid].append(sid)\n",
    "        # print(\"-gig\", self.attributes[attributeId])\n",
    "        for vc, vids in zip(attributeValsCount, attributeValsIds):\n",
    "            # print(\"-gig\", vids)\n",
    "            gain -= vc/len(sampleIds) * self.getEntropy(vids)\n",
    "            print(\"000000000\")\n",
    "            print(len(sampleIds))\n",
    "        return gain\n",
    "\n",
    "    def getAttributeMaxInformationGain(self, sampleIds, attributeIds):\n",
    "        attributesEntropy = [0] * len(attributeIds)\n",
    "        for i, attId in zip(range(len(attributeIds)), attributeIds):\n",
    "            attributesEntropy[i] = self.getInformationGain(sampleIds, attId)\n",
    "        maxId = attributeIds[attributesEntropy.index(max(attributesEntropy))]\n",
    "        return self.attributes[maxId], maxId\n",
    "\n",
    "    def isSingleLabeled(self, sampleIds):\n",
    "        label = self.labels[sampleIds[0]]\n",
    "        for sid in sampleIds:\n",
    "            if self.labels[sid] != label:\n",
    "                return False\n",
    "        return True\n",
    "\n",
    "    def getLabel(self, sampleId):\n",
    "        return self.labels[sampleId]\n",
    "\n",
    "    def id3(self):\n",
    "        sampleIds = [x for x in range(len(self.sample))]\n",
    "        attributeIds = [x for x in range(len(self.attributes))]\n",
    "        self.root = self.id3Recv(sampleIds, attributeIds, self.root)\n",
    "\n",
    "    def id3Recv(self, sampleIds, attributeIds, root):\n",
    "        print(\"++++++++++\")\n",
    "        print(sampleIds)\n",
    "        print(attributeIds)\n",
    "        root = Node() # Initialize current root\n",
    "        if self.isSingleLabeled(sampleIds):\n",
    "            root.value = self.labels[sampleIds[0]]\n",
    "            return root\n",
    "        # print(attributeIds)\n",
    "        if len(attributeIds) == 0:\n",
    "            root.value = self.getDominantLabel(sampleIds)\n",
    "            return root\n",
    "        bestAttrName, bestAttrId = self.getAttributeMaxInformationGain(\n",
    "            sampleIds, attributeIds)\n",
    "        # print(bestAttrName)\n",
    "        root.value = bestAttrName\n",
    "        root.childs = []  # Create list of children\n",
    "        for value in self.getAttributeValues(sampleIds, bestAttrId):\n",
    "            # print(value)\n",
    "            child = Node()\n",
    "            child.value = value\n",
    "            root.childs.append(child)  # Append new child node to current\n",
    "                                       # root\n",
    "            childSampleIds = []\n",
    "            for sid in sampleIds:\n",
    "                if self.sample[sid][bestAttrId] == value:\n",
    "                    childSampleIds.append(sid)\n",
    "            if len(childSampleIds) == 0:\n",
    "                child.next = self.getDominantLabel(sampleIds)\n",
    "            else:\n",
    "                # print(bestAttrName, bestAttrId)\n",
    "                # print(attributeIds)\n",
    "                if len(attributeIds) > 0 and bestAttrId in attributeIds:\n",
    "                    toRemove = attributeIds.index(bestAttrId)\n",
    "                    attributeIds.pop(toRemove)\n",
    "                child.next = self.id3Recv(\n",
    "                    childSampleIds, attributeIds, child.next)\n",
    "        return root\n",
    "    \n",
    "    def printTree(self):\n",
    "            if self.root:\n",
    "                roots = deque()\n",
    "                roots.append(self.root)\n",
    "                while len(roots) > 0:\n",
    "                    root = roots.popleft()\n",
    "                    print(root.value)\n",
    "                    if root.childs:\n",
    "                        for child in root.childs:\n",
    "                            print('({})'.format(child.value))\n",
    "                            roots.append(child.next)\n",
    "                    elif root.next:\n",
    "                        print(root.next)"
   ]
  },
  {
   "cell_type": "code",
   "execution_count": 111,
   "metadata": {},
   "outputs": [
    {
     "name": "stdout",
     "output_type": "stream",
     "text": [
      "['Outlook', 'Temperature', 'Humidity', 'Wind']\n",
      "[['Sunny', 'Hot', 'High', 'Weak'], ['Sunny', 'Hot', 'High', 'Strong'], ['Overcast', 'Hot', 'High', 'Weak'], ['Rain', 'Mild', 'High', 'Weak'], ['Rain', 'Cool', 'Normal', 'Weak'], ['Rain', 'Cool', 'Normal', 'Strong'], ['Overcast', 'Cool', 'Normal', 'Strong'], ['Sunny', 'Mild', 'High', 'Weak'], ['Sunny', 'Cool', 'Normal', 'Weak'], ['Rain', 'Mild', 'Normal', 'Weak'], ['Sunny', 'Mild', 'Normal', 'Strong'], ['Overcast', 'Mild', 'High', 'Strong'], ['Overcast', 'Hot', 'Normal', 'Weak'], ['Rain', 'Mild', 'High', 'Strong']]\n",
      "['No', 'No', 'Yes', 'Yes', 'Yes', 'No', 'Yes', 'No', 'Yes', 'Yes', 'Yes', 'Yes', 'Yes', 'No']\n"
     ]
    }
   ],
   "source": [
    "import re\n",
    "f = open('playtennis.csv')\n",
    "attributes = f.readline().split(',')\n",
    "attributes = attributes[1:len(attributes)-1]\n",
    "print(attributes)\n",
    "sample = f.readlines()\n",
    "f.close()\n",
    "for i in range(len(sample)):\n",
    "    sample[i] = re.sub('\\d+,', '', sample[i])\n",
    "    sample[i] = sample[i].strip().split(',')\n",
    "labels = []\n",
    "for s in sample:\n",
    "    labels.append(s.pop())\n",
    "print(sample)\n",
    "print(labels)"
   ]
  },
  {
   "cell_type": "code",
   "execution_count": 112,
   "metadata": {},
   "outputs": [
    {
     "name": "stdout",
     "output_type": "stream",
     "text": [
      "['No', 'Yes']\n",
      "[5, 9]\n",
      "System entropy 0.9402859586706309\n",
      "++++++++++\n",
      "[0, 1, 2, 3, 4, 5, 6, 7, 8, 9, 10, 11, 12, 13]\n",
      "[0, 1, 2, 3]\n",
      "000000000\n",
      "14\n",
      "000000000\n",
      "14\n",
      "000000000\n",
      "14\n",
      "000000000\n",
      "14\n",
      "000000000\n",
      "14\n",
      "000000000\n",
      "14\n",
      "000000000\n",
      "14\n",
      "000000000\n",
      "14\n",
      "000000000\n",
      "14\n",
      "000000000\n",
      "14\n",
      "++++++++++\n",
      "[0, 1, 7, 8, 10]\n",
      "[1, 2, 3]\n",
      "000000000\n",
      "5\n",
      "000000000\n",
      "5\n",
      "000000000\n",
      "5\n",
      "000000000\n",
      "5\n",
      "000000000\n",
      "5\n",
      "000000000\n",
      "5\n",
      "000000000\n",
      "5\n",
      "++++++++++\n",
      "[0, 1, 7]\n",
      "[1, 3]\n",
      "++++++++++\n",
      "[8, 10]\n",
      "[1, 3]\n",
      "++++++++++\n",
      "[2, 6, 11, 12]\n",
      "[1, 3]\n",
      "++++++++++\n",
      "[3, 4, 5, 9, 13]\n",
      "[1, 3]\n",
      "000000000\n",
      "5\n",
      "000000000\n",
      "5\n",
      "000000000\n",
      "5\n",
      "000000000\n",
      "5\n",
      "++++++++++\n",
      "[3, 4, 9]\n",
      "[1]\n",
      "++++++++++\n",
      "[5, 13]\n",
      "[1]\n",
      "Outlook\n",
      "(Sunny)\n",
      "(Overcast)\n",
      "(Rain)\n",
      "Humidity\n",
      "(High)\n",
      "(Normal)\n",
      "Yes\n",
      "Wind\n",
      "(Weak)\n",
      "(Strong)\n",
      "No\n",
      "Yes\n",
      "Yes\n",
      "No\n"
     ]
    }
   ],
   "source": [
    "decisionTree = DecisionTree(sample, attributes, labels)\n",
    "print(\"System entropy {}\".format(decisionTree.entropy))\n",
    "decisionTree.id3()\n",
    "decisionTree.printTree()"
   ]
  },
  {
   "cell_type": "markdown",
   "metadata": {},
   "source": [
    "# Алгоритм ID3"
   ]
  },
  {
   "cell_type": "code",
   "execution_count": 53,
   "metadata": {},
   "outputs": [],
   "source": [
    "TARGET_COLUMN = 'Play Tennis'\n",
    "\n",
    "class Node(object):\n",
    "    def __init__(self):\n",
    "        self.value = None\n",
    "        self.next = None\n",
    "        self.childs = None"
   ]
  },
  {
   "cell_type": "code",
   "execution_count": 54,
   "metadata": {},
   "outputs": [],
   "source": []
  },
  {
   "cell_type": "code",
   "execution_count": 55,
   "metadata": {},
   "outputs": [],
   "source": []
  },
  {
   "cell_type": "code",
   "execution_count": 51,
   "metadata": {},
   "outputs": [],
   "source": [
    "def getAttributeMaxInformationGain(self, sampleIds, attributeIds):\n",
    "    attributesEntropy = [0] * len(attributeIds)\n",
    "    for i, attId in zip(range(len(attributeIds)), attributeIds):\n",
    "        attributesEntropy[i] = self.getInformationGain(sampleIds, attId)\n",
    "    maxId = attributeIds[attributesEntropy.index(max(attributesEntropy))]\n",
    "    return self.attributes[maxId], maxId"
   ]
  },
  {
   "cell_type": "code",
   "execution_count": null,
   "metadata": {},
   "outputs": [],
   "source": [
    "def getEntropy(counts_lst):\n",
    "    \"\"\"\n",
    "    Вычисление энтропии по списку с количествами различных классов\n",
    "    \"\"\"\n",
    "    entropy = 0\n",
    "    for cnt in counts_lst:\n",
    "        if cnt != 0:\n",
    "            entropy += -cnt/len(counts_lst) * math.log(cnt/len(counts_lst), 2)\n",
    "\n",
    "    return entropy"
   ]
  },
  {
   "cell_type": "code",
   "execution_count": null,
   "metadata": {},
   "outputs": [],
   "source": [
    "def getInformationGain(X_train, y_train, attr_name):\n",
    "    \"\"\"\n",
    "    Вычисление information gain для конкретного атрибута\n",
    "    \"\"\"\n",
    "    gain = self.getEntropy(sampleIds)\n",
    "    attributeVals = []\n",
    "    attributeValsCount = []\n",
    "    attributeValsIds = []\n",
    "    for sid in sampleIds:\n",
    "        val = self.sample[sid][attributeId]\n",
    "        if val not in attributeVals:\n",
    "            attributeVals.append(val)\n",
    "            attributeValsCount.append(0)\n",
    "            attributeValsIds.append([])\n",
    "        vid = attributeVals.index(val)\n",
    "        attributeValsCount[vid] += 1\n",
    "        attributeValsIds[vid].append(sid)\n",
    "    # print(\"-gig\", self.attributes[attributeId])\n",
    "    for vc, vids in zip(attributeValsCount, attributeValsIds):\n",
    "        # print(\"-gig\", vids)\n",
    "        gain -= vc/len(sampleIds) * self.getEntropy(vids)\n",
    "        print(\"000000000\")\n",
    "        print(len(sampleIds))\n",
    "    return gain"
   ]
  },
  {
   "cell_type": "code",
   "execution_count": 58,
   "metadata": {},
   "outputs": [],
   "source": [
    "def getID3Tree(X_train, y_train, attributes, target_classes, root):\n",
    "    \"\"\" \n",
    "    Функция генерации ID3 дерева \n",
    "    \"\"\"\n",
    "    root = Node()\n",
    "    if y_train.nunique() == 1:\n",
    "        root.value = y_train[0]\n",
    "        return root\n",
    "    if len(attributes) == 0:\n",
    "        root.value = y_train.value_counts().idxmax()\n",
    "        return root\n",
    "    bestAttrName, bestAttrId = self.getAttributeMaxInformationGain(\n",
    "    sampleIds, attributeIds)\n",
    "    # print(bestAttrName)\n",
    "    root.value = bestAttrName"
   ]
  },
  {
   "cell_type": "code",
   "execution_count": 59,
   "metadata": {},
   "outputs": [
    {
     "data": {
      "text/html": [
       "<div>\n",
       "<style scoped>\n",
       "    .dataframe tbody tr th:only-of-type {\n",
       "        vertical-align: middle;\n",
       "    }\n",
       "\n",
       "    .dataframe tbody tr th {\n",
       "        vertical-align: top;\n",
       "    }\n",
       "\n",
       "    .dataframe thead th {\n",
       "        text-align: right;\n",
       "    }\n",
       "</style>\n",
       "<table border=\"1\" class=\"dataframe\">\n",
       "  <thead>\n",
       "    <tr style=\"text-align: right;\">\n",
       "      <th></th>\n",
       "      <th>Outlook</th>\n",
       "      <th>Temperature</th>\n",
       "      <th>Humidity</th>\n",
       "      <th>Wind</th>\n",
       "      <th>Play Tennis</th>\n",
       "    </tr>\n",
       "  </thead>\n",
       "  <tbody>\n",
       "    <tr>\n",
       "      <th>0</th>\n",
       "      <td>Sunny</td>\n",
       "      <td>Hot</td>\n",
       "      <td>High</td>\n",
       "      <td>Weak</td>\n",
       "      <td>No</td>\n",
       "    </tr>\n",
       "    <tr>\n",
       "      <th>1</th>\n",
       "      <td>Sunny</td>\n",
       "      <td>Hot</td>\n",
       "      <td>High</td>\n",
       "      <td>Strong</td>\n",
       "      <td>No</td>\n",
       "    </tr>\n",
       "    <tr>\n",
       "      <th>2</th>\n",
       "      <td>Overcast</td>\n",
       "      <td>Hot</td>\n",
       "      <td>High</td>\n",
       "      <td>Weak</td>\n",
       "      <td>Yes</td>\n",
       "    </tr>\n",
       "    <tr>\n",
       "      <th>3</th>\n",
       "      <td>Rain</td>\n",
       "      <td>Mild</td>\n",
       "      <td>High</td>\n",
       "      <td>Weak</td>\n",
       "      <td>Yes</td>\n",
       "    </tr>\n",
       "    <tr>\n",
       "      <th>4</th>\n",
       "      <td>Rain</td>\n",
       "      <td>Cool</td>\n",
       "      <td>Normal</td>\n",
       "      <td>Weak</td>\n",
       "      <td>Yes</td>\n",
       "    </tr>\n",
       "  </tbody>\n",
       "</table>\n",
       "</div>"
      ],
      "text/plain": [
       "    Outlook Temperature Humidity    Wind Play Tennis\n",
       "0     Sunny         Hot     High    Weak          No\n",
       "1     Sunny         Hot     High  Strong          No\n",
       "2  Overcast         Hot     High    Weak         Yes\n",
       "3      Rain        Mild     High    Weak         Yes\n",
       "4      Rain        Cool   Normal    Weak         Yes"
      ]
     },
     "execution_count": 59,
     "metadata": {},
     "output_type": "execute_result"
    }
   ],
   "source": [
    "data = pd.read_csv(\"playtennis.csv\")\n",
    "data.drop('Day', axis=1, inplace=True)\n",
    "data.head()"
   ]
  },
  {
   "cell_type": "code",
   "execution_count": 60,
   "metadata": {},
   "outputs": [
    {
     "data": {
      "text/plain": [
       "2"
      ]
     },
     "execution_count": 60,
     "metadata": {},
     "output_type": "execute_result"
    }
   ],
   "source": [
    "X_train = data.loc[:, data.columns != TARGET_COLUMN]\n",
    "y_train = data[TARGET_COLUMN]\n",
    "attributes = X_train.columns\n",
    "y_train.nunique()"
   ]
  },
  {
   "cell_type": "code",
   "execution_count": 61,
   "metadata": {},
   "outputs": [
    {
     "ename": "NameError",
     "evalue": "name 'self' is not defined",
     "output_type": "error",
     "traceback": [
      "\u001b[0;31m---------------------------------------------------------------------------\u001b[0m",
      "\u001b[0;31mNameError\u001b[0m                                 Traceback (most recent call last)",
      "\u001b[0;32m<ipython-input-61-ff5abbcffb84>\u001b[0m in \u001b[0;36m<module>\u001b[0;34m\u001b[0m\n\u001b[0;32m----> 1\u001b[0;31m \u001b[0mroot\u001b[0m \u001b[0;34m=\u001b[0m \u001b[0mgetID3Tree\u001b[0m\u001b[0;34m(\u001b[0m\u001b[0mX_train\u001b[0m\u001b[0;34m,\u001b[0m \u001b[0my_train\u001b[0m\u001b[0;34m,\u001b[0m \u001b[0mattributes\u001b[0m\u001b[0;34m,\u001b[0m \u001b[0my_train\u001b[0m\u001b[0;34m.\u001b[0m\u001b[0munique\u001b[0m\u001b[0;34m(\u001b[0m\u001b[0;34m)\u001b[0m\u001b[0;34m,\u001b[0m \u001b[0;32mNone\u001b[0m\u001b[0;34m)\u001b[0m\u001b[0;34m\u001b[0m\u001b[0;34m\u001b[0m\u001b[0m\n\u001b[0m",
      "\u001b[0;32m<ipython-input-58-c1879824126f>\u001b[0m in \u001b[0;36mgetID3Tree\u001b[0;34m(X_train, y_train, attributes, target_classes, root)\u001b[0m\n\u001b[1;32m     10\u001b[0m         \u001b[0mroot\u001b[0m\u001b[0;34m.\u001b[0m\u001b[0mvalue\u001b[0m \u001b[0;34m=\u001b[0m \u001b[0my_train\u001b[0m\u001b[0;34m.\u001b[0m\u001b[0mvalue_counts\u001b[0m\u001b[0;34m(\u001b[0m\u001b[0;34m)\u001b[0m\u001b[0;34m.\u001b[0m\u001b[0midxmax\u001b[0m\u001b[0;34m(\u001b[0m\u001b[0;34m)\u001b[0m\u001b[0;34m\u001b[0m\u001b[0;34m\u001b[0m\u001b[0m\n\u001b[1;32m     11\u001b[0m         \u001b[0;32mreturn\u001b[0m \u001b[0mroot\u001b[0m\u001b[0;34m\u001b[0m\u001b[0;34m\u001b[0m\u001b[0m\n\u001b[0;32m---> 12\u001b[0;31m     bestAttrName, bestAttrId = self.getAttributeMaxInformationGain(\n\u001b[0m\u001b[1;32m     13\u001b[0m     sampleIds, attributeIds)\n\u001b[1;32m     14\u001b[0m     \u001b[0;31m# print(bestAttrName)\u001b[0m\u001b[0;34m\u001b[0m\u001b[0;34m\u001b[0m\u001b[0;34m\u001b[0m\u001b[0m\n",
      "\u001b[0;31mNameError\u001b[0m: name 'self' is not defined"
     ]
    }
   ],
   "source": [
    "root = getID3Tree(X_train, y_train, attributes, y_train.unique(), None)"
   ]
  },
  {
   "cell_type": "code",
   "execution_count": 17,
   "metadata": {},
   "outputs": [
    {
     "data": {
      "text/plain": [
       "array(['No', 'Yes'], dtype=object)"
      ]
     },
     "execution_count": 17,
     "metadata": {},
     "output_type": "execute_result"
    }
   ],
   "source": []
  },
  {
   "cell_type": "code",
   "execution_count": 48,
   "metadata": {},
   "outputs": [
    {
     "data": {
      "text/plain": [
       "'Yes'"
      ]
     },
     "execution_count": 48,
     "metadata": {},
     "output_type": "execute_result"
    }
   ],
   "source": [
    "y_train.value_counts().idxmax()"
   ]
  },
  {
   "cell_type": "code",
   "execution_count": 46,
   "metadata": {},
   "outputs": [
    {
     "data": {
      "text/plain": [
       "'Yes'"
      ]
     },
     "execution_count": 46,
     "metadata": {},
     "output_type": "execute_result"
    }
   ],
   "source": [
    "counts"
   ]
  },
  {
   "cell_type": "code",
   "execution_count": 47,
   "metadata": {},
   "outputs": [
    {
     "data": {
      "text/plain": [
       "Yes    9\n",
       "No     5\n",
       "Name: Play Tennis, dtype: int64"
      ]
     },
     "execution_count": 47,
     "metadata": {},
     "output_type": "execute_result"
    }
   ],
   "source": [
    "y_train.value_counts()"
   ]
  },
  {
   "cell_type": "code",
   "execution_count": null,
   "metadata": {},
   "outputs": [],
   "source": []
  }
 ],
 "metadata": {
  "kernelspec": {
   "display_name": "Python 3",
   "language": "python",
   "name": "python3"
  },
  "language_info": {
   "codemirror_mode": {
    "name": "ipython",
    "version": 3
   },
   "file_extension": ".py",
   "mimetype": "text/x-python",
   "name": "python",
   "nbconvert_exporter": "python",
   "pygments_lexer": "ipython3",
   "version": "3.7.3"
  }
 },
 "nbformat": 4,
 "nbformat_minor": 2
}
